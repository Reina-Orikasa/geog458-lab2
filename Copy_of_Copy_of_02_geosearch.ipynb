{
  "cells": [
    {
      "cell_type": "code",
      "execution_count": null,
      "metadata": {
        "id": "EtnaSlH-wplB"
      },
      "outputs": [],
      "source": [
        "# created on Dec 24, 2020\n",
        "# modified on April 12, 2022\n",
        "# @author:          Bo Zhao\n",
        "# @email:           zhaobo@uw.edu\n",
        "# @website:         https://hgis.uw.edu\n",
        "# @organization:    Department of Geography, University of Washington, Seattle\n",
        "# @description:     Search geo-tagged tweets within the U.S. This script is modified from https://github.com/shawn-terryah/Twitter_Geolocation"
      ]
    },
    {
      "cell_type": "code",
      "execution_count": null,
      "metadata": {
        "id": "f-bMdKMawxnQ",
        "outputId": "93eca812-c3b3-4bdc-e7d0-01c2ed225379",
        "colab": {
          "base_uri": "https://localhost:8080/"
        }
      },
      "outputs": [
        {
          "output_type": "stream",
          "name": "stdout",
          "text": [
            "Drive already mounted at /gdrive; to attempt to forcibly remount, call drive.mount(\"/gdrive\", force_remount=True).\n"
          ]
        }
      ],
      "source": [
        "import tweepy, json, time\n",
        "import pandas as pd\n",
        "from google.colab import files\n",
        "# Create data on to Google Drive\n",
        "from google.colab import drive\n",
        "# Mount your Drive to the Colab VM.\n",
        "drive.mount('/gdrive')"
      ]
    },
    {
      "cell_type": "code",
      "execution_count": null,
      "metadata": {
        "id": "dEyPts-ZwplE"
      },
      "outputs": [],
      "source": [
        "class StreamListener(tweepy.StreamListener):\n",
        "    \"\"\"tweepy.StreamListener is a class provided by tweepy used to access\n",
        "    the Twitter Streaming API to collect tweets in real-time.\n",
        "    \"\"\"\n",
        "\n",
        "    def __init__(self, time_limit=60, file=\"\"):\n",
        "        \"\"\"class initialization\"\"\"\n",
        "        self.start_time = time.time()\n",
        "        self.limit = time_limit\n",
        "        self.result = []\n",
        "        self.f = file\n",
        "        super(StreamListener, self).__init__()\n",
        "\n",
        "    def on_data(self, data):\n",
        "        \"\"\"This is called when data are streamed in.\"\"\"\n",
        "        if (time.time() - self.start_time) < self.limit:\n",
        "            datajson = json.loads(data)\n",
        "            # print(datajson, \"\\n\")\n",
        "            if 'id' not in datajson.keys():\n",
        "                time.sleep(10)\n",
        "            else:\n",
        "                id = datajson['id']\n",
        "                username = datajson['user']['screen_name']\n",
        "                created_at = datajson['created_at']\n",
        "                text = datajson['text'].strip().replace(\"\\n\", \"\")\n",
        "\n",
        "                # process the geo-tags\n",
        "                if datajson['coordinates'] == None:\n",
        "                    try:\n",
        "                        bbox = datajson['place']['bounding_box']['coordinates'][0]\n",
        "                        lng = (bbox[0][0] + bbox[2][0]) / 2.0\n",
        "                        lat = (bbox[0][1] + bbox[1][1]) / 2.0\n",
        "                    except:\n",
        "                        lat = 0\n",
        "                        lng = 0\n",
        "                else:\n",
        "                    lng = datajson['coordinates']['coordinates'][0]\n",
        "                    lat = datajson['coordinates']['coordinates'][1]\n",
        "\n",
        "                if lat != 0:\n",
        "                    row = {\n",
        "                        'id': id,\n",
        "                        'username': username,\n",
        "                        'created_at': created_at,\n",
        "                        'lng': lng,\n",
        "                        'lat': lat,\n",
        "                        'text': text\n",
        "                    }\n",
        "                    print(row)\n",
        "                    self.result.append(row)\n",
        "                else:\n",
        "                    pass\n",
        "        else:\n",
        "            df = pd.DataFrame(self.result)\n",
        "            df.to_csv(self.f, index=False)\n",
        "            # download the csv to your local computer\n",
        "            files.download(self.f)\n",
        "            print(\"the csv has been downloaded to your local computer. The program has been completed successfully.\")\n",
        "            return False"
      ]
    },
    {
      "cell_type": "code",
      "execution_count": null,
      "metadata": {
        "id": "5Xzyo_OiwplG",
        "colab": {
          "base_uri": "https://localhost:8080/",
          "height": 1000
        },
        "outputId": "9a326e85-454f-4e86-ca26-2943558099c7"
      },
      "outputs": [
        {
          "output_type": "stream",
          "name": "stdout",
          "text": [
            "{'id': 1514867607395991554, 'username': 'KevinSp77690532', 'created_at': 'Fri Apr 15 07:25:57 +0000 2022', 'lng': -119.30660750000001, 'lat': 37.2691755, 'text': \"Goodnight @deathlyill_ttvIt's been a long road from #MachuPicchu but I do believe #DrJon and his @SisterWives01 w… https://t.co/gjpD9TPRqZ\"}\n",
            "{'id': 1514867608155156483, 'username': 'DavidSwoosh', 'created_at': 'Fri Apr 15 07:25:57 +0000 2022', 'lng': -122.08577550000001, 'lat': 37.641270500000005, 'text': '@Thatkidjoe95 Wtf lol you be minding your own business huh'}\n",
            "{'id': 1514867610508312577, 'username': 'JadeLove21__', 'created_at': 'Fri Apr 15 07:25:57 +0000 2022', 'lng': -84.433106, 'lat': 33.7671945, 'text': 'I can’t wait until I’m not irritable going to sleep'}\n",
            "{'id': 1514867616615211008, 'username': 'HypnoticxHaze', 'created_at': 'Fri Apr 15 07:25:59 +0000 2022', 'lng': -96.7617535, 'lat': 32.819858499999995, 'text': '@haiti4rmdatwn @cooleycashxxx He really should ball on us but we’ll talk about that l8r😂🤪'}\n",
            "{'id': 1514867616455831552, 'username': 'LingardDevonda', 'created_at': 'Fri Apr 15 07:25:59 +0000 2022', 'lng': -81.18793299999999, 'lat': 28.6575085, 'text': \"Now I'm Up CAN'T sleep 😭\"}\n",
            "{'id': 1514867622755672070, 'username': 'Zenoxx69', 'created_at': 'Fri Apr 15 07:26:00 +0000 2022', 'lng': -97.552161, 'lat': 35.4828435, 'text': '@idair1 Yes, you could be a submissive top.You could be verse/switchYou could be a dominant bottom.'}\n",
            "{'id': 1514867623686770694, 'username': 'samurai_antonio', 'created_at': 'Fri Apr 15 07:26:01 +0000 2022', 'lng': -98.5406515, 'lat': 29.417501, 'text': \"@Jim_Jordan Right here buddy.  He's handling multiple crises and taking a responsible route. He's undercut Putin at… https://t.co/ExSU8tqbnp\"}\n",
            "{'id': 1514867624013799425, 'username': 'ESGenealogy', 'created_at': 'Fri Apr 15 07:26:01 +0000 2022', 'lng': -74.7850875, 'lat': 39.832730999999995, 'text': 'Noticed some of these additional questions today on the 1950 Census 🔎 https://t.co/DHWDllWN7z'}\n",
            "{'id': 1514867628073922561, 'username': 'daddyfatcock21', 'created_at': 'Fri Apr 15 07:26:02 +0000 2022', 'lng': -118.4119065, 'lat': 34.0207895, 'text': '@bxtchkells Sexy'}\n",
            "{'id': 1514867628870815747, 'username': 'DolanWilliams5', 'created_at': 'Fri Apr 15 07:26:02 +0000 2022', 'lng': -122.630908, 'lat': 45.536402, 'text': '@MightyM55070329 everyone knows Palestinians are pacifists.... oh, wait..'}\n",
            "{'id': 1514867629302841347, 'username': 'dnathe4th', 'created_at': 'Fri Apr 15 07:26:02 +0000 2022', 'lng': -119.30660750000001, 'lat': 37.2691755, 'text': '@lily229011 @ksavitt @AmericanExpress @boomaero You must be a real joy at parties'}\n",
            "{'id': 1514867630380883968, 'username': 'thekiiddddd', 'created_at': 'Fri Apr 15 07:26:02 +0000 2022', 'lng': -77.0143985, 'lat': 38.898602999999994, 'text': '@cammieden hopefully, their room can be anywhere between very nice and orderly and a mess.'}\n",
            "{'id': 1514867630322159621, 'username': 'laurenbrock100', 'created_at': 'Fri Apr 15 07:26:02 +0000 2022', 'lng': -72.757385, 'lat': 41.500753, 'text': '@GrofaxX @MissVanessaMai @evawut @yawahuguama @own_bills @GunnelsWarren How is it fair to me? I don’t blame others… https://t.co/o5a2Flmby1'}\n",
            "{'id': 1514867630561284099, 'username': 'BossmanCoach', 'created_at': 'Fri Apr 15 07:26:02 +0000 2022', 'lng': -87.732013, 'lat': 41.8335845, 'text': 'This movie why I’m cool on this heauxs'}\n",
            "{'id': 1514867633061081091, 'username': 'AdrianGrza', 'created_at': 'Fri Apr 15 07:26:03 +0000 2022', 'lng': -100.640491, 'lat': 25.8057225, 'text': '@lilacatholic Besitiful ss always my pretty tamamo'}\n",
            "{'id': 1514867636265443336, 'username': 'AlannuhG', 'created_at': 'Fri Apr 15 07:26:04 +0000 2022', 'lng': -84.433106, 'lat': 33.7671945, 'text': '1\\\\2“The Southeast is 24% of the US GDP, but only accounts for 7% of the venture investment,” noted Blake Patton, t… https://t.co/8vtpwUd3lW'}\n",
            "{'id': 1514867637737689094, 'username': 'AlannuhG', 'created_at': 'Fri Apr 15 07:26:04 +0000 2022', 'lng': -84.433106, 'lat': 33.7671945, 'text': '2\\\\2 Imagine the Southeast was 1 large megastate it GDP will be larger than Texas, California and New York combined..'}\n",
            "{'id': 1514867640577183746, 'username': '_brayj', 'created_at': 'Fri Apr 15 07:26:05 +0000 2022', 'lng': -117.104989, 'lat': 32.810012, 'text': 'Waitttt 🤣 and Isiah found her tweet 🤣 hahahahaha.'}\n",
            "{'id': 1514867643446173696, 'username': 'Ronaldlee__', 'created_at': 'Fri Apr 15 07:26:05 +0000 2022', 'lng': -78.657837, 'lat': 35.8439815, 'text': 'Anybody else awake ??'}\n",
            "{'id': 1514867645497020418, 'username': 'Universe__Lover', 'created_at': 'Fri Apr 15 07:26:06 +0000 2022', 'lng': -121.8167985, 'lat': 37.382487999999995, 'text': '@ComradeLuanne Neelix walked so jar jar could run'}\n",
            "{'id': 1514867645757026307, 'username': 'ashhpotato', 'created_at': 'Fri Apr 15 07:26:06 +0000 2022', 'lng': -118.4119065, 'lat': 34.0207895, 'text': '@lights I literally thought about him today too, just a random blip of a thought. damn'}\n",
            "{'id': 1514867646503657474, 'username': 'QualOverQuan', 'created_at': 'Fri Apr 15 07:26:06 +0000 2022', 'lng': -118.4119065, 'lat': 34.0207895, 'text': '@bigDIKluvs2RIDE I like how you asked 😈'}\n",
            "{'id': 1514867650618220550, 'username': 'Enrique510_', 'created_at': 'Fri Apr 15 07:26:07 +0000 2022', 'lng': -122.113371, 'lat': 37.697062, 'text': '@PointSpreadMax Daily Quordle 816️⃣5️⃣8️⃣7️⃣26'}\n",
            "{'id': 1514867651696373766, 'username': 'nissiareed', 'created_at': 'Fri Apr 15 07:26:07 +0000 2022', 'lng': -77.085747, 'lat': 35.120205, 'text': 'Is det tommy shid over yet ?????!!!! Damn i need the other power to come on na'}\n",
            "{'id': 1514867654162591747, 'username': 'KumarManash002', 'created_at': 'Fri Apr 15 07:26:08 +0000 2022', 'lng': -119.30660750000001, 'lat': 37.2691755, 'text': 'Met after 2 yrs....freind ship life. https://t.co/lcAr6namov'}\n",
            "{'id': 1514867657698336773, 'username': 'OneQuaan', 'created_at': 'Fri Apr 15 07:26:09 +0000 2022', 'lng': -87.9672925, 'lat': 43.0567225, 'text': 'Define my all. Too which one I can use gadgets?? What im really mad is, behind the frame, im bussing my balls, and… https://t.co/jdeJzOrEWr'}\n",
            "{'id': 1514867662467256321, 'username': 'Scarheart761', 'created_at': 'Fri Apr 15 07:26:10 +0000 2022', 'lng': -111.91702599999999, 'lat': 40.765805, 'text': \"@huhnee_ I don't care if a woman has tats or not, so long as she always is the person she wants to be.\"}\n",
            "{'id': 1514867664904200198, 'username': 'GSGSolis16', 'created_at': 'Fri Apr 15 07:26:10 +0000 2022', 'lng': -83.804475, 'lat': 27.698681999999998, 'text': 'Bedtime for realz now 😴\\U0001f971..'}\n",
            "{'id': 1514867668913848320, 'username': 'yourfavtwinkk', 'created_at': 'Fri Apr 15 07:26:11 +0000 2022', 'lng': -157.799589, 'lat': 21.3199435, 'text': 'I’m very tired https://t.co/WFCQdoUm2a'}\n",
            "{'id': 1514867669798899717, 'username': 'dicey631', 'created_at': 'Fri Apr 15 07:26:12 +0000 2022', 'lng': -74.15394699999999, 'lat': 40.572376000000006, 'text': '@Kieltje @Rothbard1776 @HansMahncke @elonmusk @cameron Not quite'}\n",
            "{'id': 1514867671619170305, 'username': 'FlorEnfadada', 'created_at': 'Fri Apr 15 07:26:12 +0000 2022', 'lng': -122.4359785, 'lat': 37.7706565, 'text': \"@aasifferdous Same guy. Shouldn't give his tweets engagement.https://t.co/Yc7cT8Y3LQ\"}\n",
            "{'id': 1514867677038211074, 'username': 'madrelauren', 'created_at': 'Fri Apr 15 07:26:13 +0000 2022', 'lng': -117.104989, 'lat': 32.810012, 'text': '@anthonys7 @sondraa IT NEVER GETS OLD LMFAO'}\n",
            "{'id': 1514867676895662082, 'username': 'BarlosBarraza', 'created_at': 'Fri Apr 15 07:26:13 +0000 2022', 'lng': -97.28591349999999, 'lat': 32.7799665, 'text': 'Eternal Sunshine of the Spotless Mind (7/11) Movie CLIP - The Day We Met... https://t.co/PHlywBvgwF via @YouTube'}\n",
            "{'id': 1514867680263606281, 'username': 'youlovetreshab', 'created_at': 'Fri Apr 15 07:26:14 +0000 2022', 'lng': -115.133373, 'lat': 36.24912449999999, 'text': 'Love it when people go to concerts and record performances thinking of me 🥺💙'}\n",
            "{'id': 1514867686425079811, 'username': 'DunnnWithYou', 'created_at': 'Fri Apr 15 07:26:15 +0000 2022', 'lng': -118.4119065, 'lat': 34.0207895, 'text': 'YEET'}\n",
            "{'id': 1514867688417357826, 'username': 'AngelaHaczku', 'created_at': 'Fri Apr 15 07:26:16 +0000 2022', 'lng': -121.73916299999999, 'lat': 38.5585535, 'text': 'Not to sneezed at! Some thoughts on allergies 🤧 @CBSSacramentoQ&amp;Answers: Does Drought Impact Allergy Season? https://t.co/gjGQNU3IYt'}\n",
            "{'id': 1514867694960615433, 'username': 'ms_carole2', 'created_at': 'Fri Apr 15 07:26:18 +0000 2022', 'lng': -89.6596895, 'lat': 39.774345999999994, 'text': '@Josie_Kay @sharon_RDG I block Larries every single day! They are everywhere!'}\n",
            "{'id': 1514867695669456897, 'username': 'David_Puffin21', 'created_at': 'Fri Apr 15 07:26:18 +0000 2022', 'lng': -83.574671, 'lat': 41.65659049999999, 'text': '@_Blackloveee That’s unfortunate af , that’s usually the easiest way but every woman is different tho'}\n",
            "{'id': 1514867700429844480, 'username': '_brayj', 'created_at': 'Fri Apr 15 07:26:19 +0000 2022', 'lng': -117.104989, 'lat': 32.810012, 'text': '@Shinkuhadoken88 Ahahaha she is!!! Love it'}\n",
            "{'id': 1514867703156133890, 'username': 'DjmagicdSfnrg', 'created_at': 'Fri Apr 15 07:26:19 +0000 2022', 'lng': -122.4359785, 'lat': 37.7706565, 'text': '@Russinowitsch @RoyalFamily @VogueUkraine @Dollywood @DollyParton @SFPD @SFFDPIO @LondonBreed @GavinNewsom… https://t.co/zRpBFzgDkv'}\n",
            "{'id': 1514867703818858497, 'username': 'LaGuera_cx', 'created_at': 'Fri Apr 15 07:26:20 +0000 2022', 'lng': -115.1678655, 'lat': 36.1075595, 'text': '✨Sin City✨ https://t.co/34EIq6TU78'}\n",
            "{'id': 1514867705341378561, 'username': 'FlahautFlahaut1', 'created_at': 'Fri Apr 15 07:26:20 +0000 2022', 'lng': -122.4294405, 'lat': 47.139885, 'text': '@zakavkaza I was asked to hild my brothers criwn till he was ready too succsess our dad from sexxton duke phipay is hess brandons father'}\n",
            "{'id': 1514867705626701827, 'username': 'Cho_Cho', 'created_at': 'Fri Apr 15 07:26:20 +0000 2022', 'lng': -81.57118399999999, 'lat': 28.6056035, 'text': '...Peace... ~( : https://t.co/LYRufoGQje'}\n",
            "{'id': 1514867715302776835, 'username': 'PotatoPoundCake', 'created_at': 'Fri Apr 15 07:26:22 +0000 2022', 'lng': -122.3306025, 'lat': 47.614817, 'text': '@TheMantalope *looks over*  👀🤤 https://t.co/FdbLj1cGhl'}\n",
            "{'id': 1514867726040416260, 'username': 'ltz_Azzy', 'created_at': 'Fri Apr 15 07:26:25 +0000 2022', 'lng': -80.47332449999999, 'lat': 41.233537, 'text': 'I failed man. 😔Sorry @KARNAGEclan'}\n",
            "{'id': 1514867729253036033, 'username': 'realKerryByard', 'created_at': 'Fri Apr 15 07:26:26 +0000 2022', 'lng': -122.28426400000001, 'lat': 47.176458999999994, 'text': \"@GregJohnsMLB They are the Seattle Mariners. that's the only answer.\"}\n",
            "{'id': 1514867734093258752, 'username': 'jeansaintLEFE', 'created_at': 'Fri Apr 15 07:26:27 +0000 2022', 'lng': -118.4119065, 'lat': 34.0207895, 'text': '@jtlilbrother You have to watch Elite on Netflix'}\n",
            "{'id': 1514867738547654659, 'username': 'Enrique510_', 'created_at': 'Fri Apr 15 07:26:28 +0000 2022', 'lng': -122.113371, 'lat': 37.697062, 'text': '@PointSpreadMax (The full results didn’t fit)'}\n",
            "{'id': 1514867738916786177, 'username': 'youlovetreshab', 'created_at': 'Fri Apr 15 07:26:28 +0000 2022', 'lng': -115.133373, 'lat': 36.24912449999999, 'text': 'I’m hell bound but heaven sent'}\n",
            "{'id': 1514867741928296452, 'username': 'daddyfatcock21', 'created_at': 'Fri Apr 15 07:26:29 +0000 2022', 'lng': -118.4119065, 'lat': 34.0207895, 'text': '@yourstrulyyvett Sexy'}\n",
            "{'id': 1514867753684979716, 'username': 'Scarheart761', 'created_at': 'Fri Apr 15 07:26:32 +0000 2022', 'lng': -111.91702599999999, 'lat': 40.765805, 'text': '@JennaLynnMeowri Yes. Yes, you did.'}\n",
            "{'id': 1514867755123720192, 'username': 'MrKaress', 'created_at': 'Fri Apr 15 07:26:32 +0000 2022', 'lng': -79.85736349999999, 'lat': 36.090396999999996, 'text': 'Ladies love Sagittarius 💯'}\n",
            "{'id': 1514867756163866626, 'username': 'travistrainer', 'created_at': 'Fri Apr 15 07:26:32 +0000 2022', 'lng': -74.3113589, 'lat': 40.5573408, 'text': \"I'm at Delta Hotels by Marriott Woodbridge - @renwoodbridge in Iselin, NJ https://t.co/eBM2yG3z09\"}\n",
            "{'id': 1514867756008714242, 'username': 'bigloveabove', 'created_at': 'Fri Apr 15 07:26:32 +0000 2022', 'lng': -77.60468399999999, 'lat': 41.1179365, 'text': 'Went out sad.Try Crossfit next time https://t.co/Bipdb7ToGb'}\n",
            "{'id': 1514867757464047616, 'username': 'LexJim1', 'created_at': 'Fri Apr 15 07:26:32 +0000 2022', 'lng': -85.7682405, 'lat': 37.822244, 'text': '@ChaimGottheil @sarahbeth345 You may be onto something there. Elephants must be super spreaders!'}\n",
            "{'id': 1514867761859727360, 'username': 'MaryLV25', 'created_at': 'Fri Apr 15 07:26:33 +0000 2022', 'lng': -100.0, 'lat': 40.0, 'text': 'Available in shop click link in bio or in comment 🛍💜🛍 @ United States https://t.co/VoKTjcMYE8'}\n",
            "{'id': 1514867761784131585, 'username': 'ymerejshay', 'created_at': 'Fri Apr 15 07:26:33 +0000 2022', 'lng': -112.4348275, 'lat': 42.863516000000004, 'text': '“That is so Moral Majority. You can’t blame real-life violence on entertainment.”So many favorite Scream 2 lines… https://t.co/L2ts2kuVES'}\n",
            "{'id': 1514867763470376964, 'username': 'elheartboy', 'created_at': 'Fri Apr 15 07:26:34 +0000 2022', 'lng': -95.44648649999999, 'lat': 29.838495, 'text': 'They be begging for it too 🤣'}\n",
            "{'id': 1514867763864604677, 'username': 'Priyesh1081', 'created_at': 'Fri Apr 15 07:26:34 +0000 2022', 'lng': -80.3326055, 'lat': 43.402108999999996, 'text': \"@madebygoogle @9to5Google that's astrophotography #pixel6pro #exploring #Nightsky https://t.co/LXMVGu6xly\"}\n",
            "{'id': 1514867768763596803, 'username': 'itsbreonicac', 'created_at': 'Fri Apr 15 07:26:35 +0000 2022', 'lng': -97.28591349999999, 'lat': 32.7799665, 'text': 'Very big on if im already doing it alone what do i need help for?'}\n",
            "{'id': 1514867774228729864, 'username': 'wchazz', 'created_at': 'Fri Apr 15 07:26:36 +0000 2022', 'lng': -82.5777, 'lat': 27.4882, 'text': 'Just posted a photo @ Bradenton, Florida https://t.co/k2NliSPQIp'}\n",
            "{'id': 1514867776061640707, 'username': 'jayleen_', 'created_at': 'Fri Apr 15 07:26:37 +0000 2022', 'lng': -118.26706052, 'lat': 34.04434327, 'text': '#DateNight #OOTD #ovocirque #OVO #CirqueDuSoleil @mstheater @ Microsoft Theater https://t.co/wnPSMOHzAw'}\n",
            "{'id': 1514867782504099844, 'username': 'siennarpark', 'created_at': 'Fri Apr 15 07:26:38 +0000 2022', 'lng': -86.27053950000001, 'lat': 45.001180000000005, 'text': 'holy shit the way the made me FEEL !!!!!!!'}\n",
            "{'id': 1514867784982925312, 'username': '00micki', 'created_at': 'Fri Apr 15 07:26:39 +0000 2022', 'lng': -88.4001645, 'lat': 42.7900215, 'text': '@Numbers28 I’m sick of it and always afraid, not for me, but for my partner.'}\n",
            "{'id': 1514867786102853634, 'username': 'ESGenealogy', 'created_at': 'Fri Apr 15 07:26:39 +0000 2022', 'lng': -74.7850875, 'lat': 39.832730999999995, 'text': 'Noticed some of these additional questions today on the 1950 Census 🔎I took this page from Lititz, PA. https://t.co/cW2gBLOe8e'}\n",
            "{'id': 1514867787109392386, 'username': 'Dakkova', 'created_at': 'Fri Apr 15 07:26:39 +0000 2022', 'lng': -76.785101, 'lat': 34.7344145, 'text': '@savingtwinkles 🤣 In my experience, never.'}\n",
            "{'id': 1514867790578024450, 'username': 'gary_CALguy', 'created_at': 'Fri Apr 15 07:26:40 +0000 2022', 'lng': -118.4119065, 'lat': 34.0207895, 'text': 'God that sounds like fun!😉😊👍'}\n",
            "{'id': 1514867790976622599, 'username': 'uncle_ric_e', 'created_at': 'Fri Apr 15 07:26:40 +0000 2022', 'lng': -82.31422950000001, 'lat': 40.864365500000005, 'text': '@princess_antifa Long story short, No!'}\n",
            "{'id': 1514867791811293186, 'username': 'YapYapTRUMP2024', 'created_at': 'Fri Apr 15 07:26:41 +0000 2022', 'lng': -88.5540415, 'lat': 30.3640485, 'text': \"@JenniferSaysHi @GovAbbott @RonDeSantisFL Don't hate them because they are trying to Right FJB'S Wrong! What's righ… https://t.co/53lixRgbOW\"}\n",
            "{'id': 1514867792469757952, 'username': 'Derrin_CLE', 'created_at': 'Fri Apr 15 07:26:41 +0000 2022', 'lng': -90.011008, 'lat': 29.982601, 'text': '@LibraLexx Definitely a favorite city of mine! It’s amazing'}\n",
            "{'id': 1514867798639579143, 'username': 'DanMcCa26510433', 'created_at': 'Fri Apr 15 07:26:42 +0000 2022', 'lng': -87.84856099999999, 'lat': 42.711776, 'text': '@TaraIsSquatter Very true.💚🏴\\u200d☠️🤪🦎'}\n",
            "{'id': 1514867798165622784, 'username': 'AhearnColeen', 'created_at': 'Fri Apr 15 07:26:42 +0000 2022', 'lng': -70.614284, 'lat': 41.680606999999995, 'text': '@RhondaTheCat Good morning Rhonda and Happy Friday my friend! https://t.co/9rfkVajRPM'}\n",
            "{'id': 1514867800304717827, 'username': 'dogwithastick', 'created_at': 'Fri Apr 15 07:26:43 +0000 2022', 'lng': -85.7682405, 'lat': 37.822244, 'text': 'need a girl so i can send her pleasant text paragraphs at 3am'}\n",
            "{'id': 1514867800422105089, 'username': 'geraldthe2nd', 'created_at': 'Fri Apr 15 07:26:43 +0000 2022', 'lng': -84.55789899999999, 'lat': 42.712049, 'text': '“Dear Heavenly Father…”'}\n",
            "{'id': 1514867800753557506, 'username': 'raist761', 'created_at': 'Fri Apr 15 07:26:43 +0000 2022', 'lng': -111.2978705, 'lat': 47.493836, 'text': \"@JillSolvolver They were tanking Joe within days of his taking office.  It's been apparent and obvious.\"}\n",
            "{'id': 1514867801122615307, 'username': '511NY', 'created_at': 'Fri Apr 15 07:26:43 +0000 2022', 'lng': -75.09337, 'lat': 39.809957, 'text': 'Cleared: Closure on #NJ41 Both directions at North of CR 534/Good Intent Rd'}\n",
            "{'id': 1514867804431798275, 'username': 'krisguy', 'created_at': 'Fri Apr 15 07:26:44 +0000 2022', 'lng': -111.54702900000001, 'lat': 39.499762000000004, 'text': '@randileeharper Ah. Then the annoyance is deserved. I would like to see a better way to log stuff on top of CGMs. M… https://t.co/GTDtfseCRN'}\n",
            "{'id': 1514867805971116034, 'username': '0xhidream', 'created_at': 'Fri Apr 15 07:26:44 +0000 2022', 'lng': -112.35157000000001, 'lat': 33.4969085, 'text': '@0xKilroy @crispylines second that @0xKilroy , when we talkin?'}\n",
            "{'id': 1514867807166500868, 'username': 'daddyfatcock21', 'created_at': 'Fri Apr 15 07:26:44 +0000 2022', 'lng': -118.4119065, 'lat': 34.0207895, 'text': '@Kissmedenver69 Sexy'}\n",
            "{'id': 1514867807858556932, 'username': 'LilMav3Rick', 'created_at': 'Fri Apr 15 07:26:44 +0000 2022', 'lng': -118.36964499999999, 'lat': 34.0870095, 'text': 'I’m definitely hitting the nude beach at least 10x this summer. Because my body is finna looking good asf 👅🍑'}\n",
            "{'id': 1514867811440463872, 'username': 'Christradomis', 'created_at': 'Fri Apr 15 07:26:45 +0000 2022', 'lng': -117.59572750000001, 'lat': 33.629414, 'text': 'Kitchen safety is important to https://t.co/xr44sSsaFb'}\n",
            "{'id': 1514867817190895618, 'username': 'ZachMiltz', 'created_at': 'Fri Apr 15 07:26:47 +0000 2022', 'lng': -118.4119065, 'lat': 34.0207895, 'text': '@AlexRumart Did you turn the lights on so he’d make himself easy to kill'}\n",
            "{'id': 1514867822555549696, 'username': 'slickjones37', 'created_at': 'Fri Apr 15 07:26:48 +0000 2022', 'lng': -89.87644900000001, 'lat': 32.571032, 'text': 'Price too high couldn’t give it to me'}\n",
            "{'id': 1514867828817604616, 'username': 'thatonehouze', 'created_at': 'Fri Apr 15 07:26:49 +0000 2022', 'lng': -84.433106, 'lat': 33.7671945, 'text': 'Those PPP loans bout to send y’all asse straight too PPPPrison'}\n",
            "{'id': 1514867829195083783, 'username': 'nissiareed', 'created_at': 'Fri Apr 15 07:26:50 +0000 2022', 'lng': -77.085747, 'lat': 35.120205, 'text': 'This thread🥴🤣'}\n",
            "{'id': 1514867831585722371, 'username': 'niacin118', 'created_at': 'Fri Apr 15 07:26:50 +0000 2022', 'lng': -118.4119065, 'lat': 34.0207895, 'text': \"@WoldenAnita I love how everyone loves the dolphins I mean they're cute and stuff and but they are able to attack a… https://t.co/PDONKuvWS5\"}\n",
            "{'id': 1514867831698980864, 'username': 'simply__mariahh', 'created_at': 'Fri Apr 15 07:26:50 +0000 2022', 'lng': -117.104989, 'lat': 32.810012, 'text': 'i just KNOW i’m waking up wit a FAT ass bruise on my elbow in the morninggg'}\n",
            "{'id': 1514867832110075907, 'username': 'MSTyree1', 'created_at': 'Fri Apr 15 07:26:50 +0000 2022', 'lng': -79.42086499999999, 'lat': 38.003375500000004, 'text': \"It's late and I can't sleep. So...I thought I would start a controversial thread. Are you ready? I fuckin love pine… https://t.co/ZmzV1BcQXm\"}\n",
            "{'id': 1514867833095823364, 'username': 'MSTyree1', 'created_at': 'Fri Apr 15 07:26:50 +0000 2022', 'lng': -79.42086499999999, 'lat': 38.003375500000004, 'text': 'What I really want to know is, how many folks in the \"pineapple doesn\\'t go on pizza\" camp have actually tried it? L… https://t.co/LtSzgbiQwQ'}\n",
            "{'id': 1514867834010091528, 'username': 'MSTyree1', 'created_at': 'Fri Apr 15 07:26:51 +0000 2022', 'lng': -79.42086499999999, 'lat': 38.003375500000004, 'text': 'These days, all it takes is one jaded twat waffle to make a meme or a Tiktok and all of a sudden the masses are rea… https://t.co/umOx3cWSxO'}\n",
            "{'id': 1514867835016781829, 'username': 'MSTyree1', 'created_at': 'Fri Apr 15 07:26:51 +0000 2022', 'lng': -79.42086499999999, 'lat': 38.003375500000004, 'text': 'When I was a kid, I thought broccoli was disgusting. Not because I tried it, but because kids my age on TV and movi… https://t.co/DF3bEc546L'}\n",
            "{'id': 1514867836119887873, 'username': 'MSTyree1', 'created_at': 'Fri Apr 15 07:26:51 +0000 2022', 'lng': -79.42086499999999, 'lat': 38.003375500000004, 'text': \"It wasn't until years later as an adult that I actually tried it and discovered...it wasn't that bad. It's great wi… https://t.co/yAvuWMhkgE\"}\n",
            "{'id': 1514867837331988480, 'username': 'MSTyree1', 'created_at': 'Fri Apr 15 07:26:51 +0000 2022', 'lng': -79.42086499999999, 'lat': 38.003375500000004, 'text': 'So, what percentage of pineapple topping haters have actually tried it versus those who just want to die on a hill… https://t.co/VbWsYlRUMw'}\n",
            "{'id': 1514867839219519488, 'username': 'alethesia_', 'created_at': 'Fri Apr 15 07:26:52 +0000 2022', 'lng': -93.9992845, 'lat': 44.165139999999994, 'text': 'Disclaimer: I am not very expensive in the English language as my vocabularies are very limited. Feel free to corre… https://t.co/IxIufkSX7J'}\n",
            "{'id': 1514867841815785474, 'username': 'AkilahCopeland3', 'created_at': 'Fri Apr 15 07:26:53 +0000 2022', 'lng': -82.063185, 'lat': 33.4407175, 'text': 'How did he have the most Middle Eastern more yellow skin in the Bodega in Queens, NY? This evening, I know I saw a… https://t.co/1c37UhQgzs'}\n",
            "{'id': 1514867842553827330, 'username': 'babygirlplzz', 'created_at': 'Fri Apr 15 07:26:53 +0000 2022', 'lng': -118.4119065, 'lat': 34.0207895, 'text': '@nicoalesence purr'}\n",
            "{'id': 1514867843711397894, 'username': 'seanie103', 'created_at': 'Fri Apr 15 07:26:53 +0000 2022', 'lng': -111.73856649999999, 'lat': 33.295215, 'text': '@PerryPumas07 @perry_pumas @GrantW_ @PerryLive365 @CTECUSD @ChandlerUnified I couldn’t agree more!'}\n",
            "{'id': 1514867845246734339, 'username': 'badgirlzclub69', 'created_at': 'Fri Apr 15 07:26:53 +0000 2022', 'lng': -87.4040135, 'lat': 39.1033535, 'text': \"https://t.co/C9Zx7EcMMZ7 day free trial to my OF because I'm feeling nice &amp; horny. Click the link, and cum with m… https://t.co/2Tw8n4XJpY\"}\n",
            "{'id': 1514867846915842050, 'username': 'yeahthomass', 'created_at': 'Fri Apr 15 07:26:54 +0000 2022', 'lng': -118.325145, 'lat': 34.182159999999996, 'text': '@FrogsAndMen So handsome!'}\n",
            "{'id': 1514867846962110478, 'username': 'MaliceOfNy', 'created_at': 'Fri Apr 15 07:26:54 +0000 2022', 'lng': -73.9685415, 'lat': 40.780709, 'text': '@AquaaDaddy The feet would’ve sent me feet 🦶🏼'}\n",
            "{'id': 1514867852301406208, 'username': 'vidaspapi', 'created_at': 'Fri Apr 15 07:26:55 +0000 2022', 'lng': -122.6761085, 'lat': 38.4522175, 'text': '@Burnku @JomboyMedia Oh shut up'}\n",
            "{'id': 1514867853316575239, 'username': 'kd97_', 'created_at': 'Fri Apr 15 07:26:55 +0000 2022', 'lng': -86.1429225, 'lat': 39.7795625, 'text': 'fuck it'}\n",
            "{'id': 1514867853870120967, 'username': 'Butter72035882', 'created_at': 'Fri Apr 15 07:26:55 +0000 2022', 'lng': -87.732013, 'lat': 41.8335845, 'text': '@80sBaby90sKid_ You and I are looking at 2 different things'}\n",
            "{'id': 1514867854461521926, 'username': 'iwaspoisoned_', 'created_at': 'Fri Apr 15 07:26:56 +0000 2022', 'lng': -108.467494, 'lat': 45.8290258, 'text': 'Lucky Charms, Walmart - Billings, Montana - Bought a bag of Lucky Charms and got sick within hours of eating Lucky… https://t.co/onfM4sBuw1'}\n",
            "{'id': 1514867857020006407, 'username': 'AuthorizedBOSS', 'created_at': 'Fri Apr 15 07:26:56 +0000 2022', 'lng': -118.4119065, 'lat': 34.0207895, 'text': \"I really can't wait to drop these custom  jackets on my birthday 🙌🏽🙌🏽🙌🏽🙌🏽🙌🏽🙌🏽🙌🏽🙌🏽\"}\n"
          ]
        },
        {
          "output_type": "display_data",
          "data": {
            "text/plain": [
              "<IPython.core.display.Javascript object>"
            ],
            "application/javascript": [
              "\n",
              "    async function download(id, filename, size) {\n",
              "      if (!google.colab.kernel.accessAllowed) {\n",
              "        return;\n",
              "      }\n",
              "      const div = document.createElement('div');\n",
              "      const label = document.createElement('label');\n",
              "      label.textContent = `Downloading \"${filename}\": `;\n",
              "      div.appendChild(label);\n",
              "      const progress = document.createElement('progress');\n",
              "      progress.max = size;\n",
              "      div.appendChild(progress);\n",
              "      document.body.appendChild(div);\n",
              "\n",
              "      const buffers = [];\n",
              "      let downloaded = 0;\n",
              "\n",
              "      const channel = await google.colab.kernel.comms.open(id);\n",
              "      // Send a message to notify the kernel that we're ready.\n",
              "      channel.send({})\n",
              "\n",
              "      for await (const message of channel.messages) {\n",
              "        // Send a message to notify the kernel that we're ready.\n",
              "        channel.send({})\n",
              "        if (message.buffers) {\n",
              "          for (const buffer of message.buffers) {\n",
              "            buffers.push(buffer);\n",
              "            downloaded += buffer.byteLength;\n",
              "            progress.value = downloaded;\n",
              "          }\n",
              "        }\n",
              "      }\n",
              "      const blob = new Blob(buffers, {type: 'application/binary'});\n",
              "      const a = document.createElement('a');\n",
              "      a.href = window.URL.createObjectURL(blob);\n",
              "      a.download = filename;\n",
              "      div.appendChild(a);\n",
              "      a.click();\n",
              "      div.remove();\n",
              "    }\n",
              "  "
            ]
          },
          "metadata": {}
        },
        {
          "output_type": "display_data",
          "data": {
            "text/plain": [
              "<IPython.core.display.Javascript object>"
            ],
            "application/javascript": [
              "download(\"download_ced23ad7-6330-4fb5-b309-6f26a98070cf\", \"geotweets.csv\", 17841)"
            ]
          },
          "metadata": {}
        },
        {
          "output_type": "stream",
          "name": "stdout",
          "text": [
            "the csv has been downloaded to your local computer. The program has been completed successfully.\n"
          ]
        }
      ],
      "source": [
        "if __name__ == \"__main__\":\n",
        "    # These are provided to you through the Twitter API after you create a account\n",
        "    # register a Twitter App to get the keys and access tokens.\n",
        "    output_file = '/gdrive/My Drive/geotweets.csv'\n",
        "\n",
        "    # Apply for your own Twitter API keys at https://developer.twitter.com/en/apply-for-access\n",
        "    consumer_key = ''\n",
        "    consumer_secret = ''\n",
        "    access_token = ''\n",
        "    access_token_secret = ''\n",
        "\n",
        "    myauth = tweepy.OAuthHandler(consumer_key, consumer_secret)\n",
        "    myauth.set_access_token(access_token, access_token_secret)\n",
        "\n",
        "    # LOCATIONS are the longitude, latitude coordinate corners for a box that restricts the\n",
        "    # geographic area from which you will stream tweets. The first two define the southwest\n",
        "    # corner of the box and the second two define the northeast corner of the box.\n",
        "    LOCATIONS = [-124.7771694, 24.520833, -66.947028, 49.384472,  # Contiguous US\n",
        "                 -164.639405, 58.806859, -144.152365, 71.76871,  # Alaska\n",
        "                 -160.161542, 18.776344, -154.641396, 22.878623]  # Hawaii\n",
        "    uk = [-7.57, 49.96, 1.68, 58.64]\n",
        "\n",
        "    stream_listener = StreamListener(time_limit=60, file=output_file)\n",
        "    stream = tweepy.Stream(auth=myauth, listener=stream_listener)\n",
        "    stream.filter(locations=LOCATIONS, languages=['en'])"
      ]
    }
  ],
  "metadata": {
    "colab": {
      "collapsed_sections": [],
      "name": "Copy of Copy of 02_geosearch.ipynb",
      "provenance": []
    },
    "kernelspec": {
      "display_name": "Python 3",
      "language": "python",
      "name": "python3"
    },
    "language_info": {
      "codemirror_mode": {
        "name": "ipython",
        "version": 3
      },
      "file_extension": ".py",
      "mimetype": "text/x-python",
      "name": "python",
      "nbconvert_exporter": "python",
      "pygments_lexer": "ipython3",
      "version": "3.7.4"
    }
  },
  "nbformat": 4,
  "nbformat_minor": 0
}